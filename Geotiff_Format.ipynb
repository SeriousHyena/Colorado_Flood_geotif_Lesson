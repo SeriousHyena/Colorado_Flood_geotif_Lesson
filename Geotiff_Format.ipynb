{
 "cells": [
  {
   "cell_type": "markdown",
   "metadata": {},
   "source": [
    "#  Lesson 4. About the Geotiff (.tif) Raster File Format: Raster Data in Python\n",
    "\n",
    "https://www.earthdatascience.org/courses/earth-analytics-python/lidar-raster-data/intro-to-the-geotiff-file-format/"
   ]
  },
  {
   "cell_type": "code",
   "execution_count": 1,
   "metadata": {},
   "outputs": [],
   "source": [
    "# Import all packages in their own cell at the top of your notebook\n",
    "import os\n",
    "import rasterio as rio\n",
    "import earthpy as et\n",
    "# Get data and set wd\n",
    "et.data.get_data(\"colorado-flood\")\n",
    "os.chdir(os.path.join(et.io.HOME, 'earth-analytics'))\n"
   ]
  },
  {
   "cell_type": "code",
   "execution_count": null,
   "metadata": {},
   "outputs": [],
   "source": []
  }
 ],
 "metadata": {
  "kernelspec": {
   "display_name": "Python 3",
   "language": "python",
   "name": "python3"
  },
  "language_info": {
   "codemirror_mode": {
    "name": "ipython",
    "version": 3
   },
   "file_extension": ".py",
   "mimetype": "text/x-python",
   "name": "python",
   "nbconvert_exporter": "python",
   "pygments_lexer": "ipython3",
   "version": "3.7.3"
  }
 },
 "nbformat": 4,
 "nbformat_minor": 4
}
