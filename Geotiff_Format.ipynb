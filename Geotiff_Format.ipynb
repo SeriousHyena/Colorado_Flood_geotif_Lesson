{
 "cells": [
  {
   "cell_type": "markdown",
   "metadata": {},
   "source": [
    "#  Lesson 4. About the Geotiff (.tif) Raster File Format: Raster Data in Python\n",
    "\n",
    "https://www.earthdatascience.org/courses/earth-analytics-python/lidar-raster-data/intro-to-the-geotiff-file-format/"
   ]
  },
  {
   "cell_type": "code",
   "execution_count": 4,
   "metadata": {},
   "outputs": [],
   "source": [
    "# Import all packages in their own cell at the top of your notebook\n",
    "import os\n",
    "import rasterio as rio\n",
    "import earthpy as et\n",
    "# Get data and set wd\n",
    "et.data.get_data(\"colorado-flood\")\n",
    "os.chdir(os.path.join(et.io.HOME, 'earth-analytics'))\n"
   ]
  },
  {
   "cell_type": "markdown",
   "metadata": {},
   "source": [
    "# Next let’s open up a raster file in geotiff format (.tif)."
   ]
  },
  {
   "cell_type": "code",
   "execution_count": 5,
   "metadata": {},
   "outputs": [],
   "source": [
    "with rio.open('data/colorado-flood/spatial/boulder-leehill-rd/pre-flood/lidar/pre_DTM.tif') as lidar_dem:\n",
    "    lidar_dem.bounds\n"
   ]
  },
  {
   "cell_type": "markdown",
   "metadata": {},
   "source": [
    "### You can view spatial attibutes associated with the raster file too. Below you explore viewing a general list of attributes and then specific attributes including number of bands and horizontal (x, y) resolution."
   ]
  },
  {
   "cell_type": "code",
   "execution_count": 8,
   "metadata": {},
   "outputs": [
    {
     "data": {
      "text/plain": [
       "\"\\n{'driver': 'GTiff',\\n 'dtype': 'float32',\\n 'nodata': -3.4028234663852886e+38,\\n 'width': 4000,\\n 'height': 2000,\\n 'count': 1,\\n 'crs': CRS.from_epsg(32613),\\n 'transform': Affine(1.0, 0.0, 472000.0,\\n        0.0, -1.0, 4436000.0)}\\n        \""
      ]
     },
     "execution_count": 8,
     "metadata": {},
     "output_type": "execute_result"
    }
   ],
   "source": [
    "# View generate metadata associated with the raster file\n",
    "lidar_dem.meta\n",
    "'''\n",
    "{'driver': 'GTiff',\n",
    " 'dtype': 'float32',\n",
    " 'nodata': -3.4028234663852886e+38,\n",
    " 'width': 4000,\n",
    " 'height': 2000,\n",
    " 'count': 1,\n",
    " 'crs': CRS.from_epsg(32613),\n",
    " 'transform': Affine(1.0, 0.0, 472000.0,\n",
    "        0.0, -1.0, 4436000.0)}\n",
    "        '''\n"
   ]
  },
  {
   "cell_type": "code",
   "execution_count": 9,
   "metadata": {},
   "outputs": [
    {
     "data": {
      "text/plain": [
       "(1.0, 1.0)"
      ]
     },
     "execution_count": 9,
     "metadata": {},
     "output_type": "execute_result"
    }
   ],
   "source": [
    "# What is the spatial resolution?\n",
    "lidar_dem.res\n"
   ]
  },
  {
   "cell_type": "markdown",
   "metadata": {},
   "source": [
    "# Access the tif tags"
   ]
  },
  {
   "cell_type": "code",
   "execution_count": 10,
   "metadata": {},
   "outputs": [
    {
     "name": "stdout",
     "output_type": "stream",
     "text": [
      "{'COMPRESSION': 'LZW', 'INTERLEAVE': 'BAND'}\n"
     ]
    }
   ],
   "source": [
    "# View image structure\n",
    "with rio.open('data/colorado-flood/spatial/boulder-leehill-rd/pre-flood/lidar/pre_DTM.tif') as lidar_dem:\n",
    "    print(lidar_dem.tags(ns='IMAGE_STRUCTURE'))\n",
    "    lidar_dem_mask = lidar_dem.dataset_mask()\n"
   ]
  },
  {
   "cell_type": "markdown",
   "metadata": {},
   "source": [
    "### Raster Masks\n",
    "\n",
    "You can view the mask associated with the data too. Here values that =0 are nodata values whereas = 255 are usable data values."
   ]
  },
  {
   "cell_type": "code",
   "execution_count": 12,
   "metadata": {},
   "outputs": [
    {
     "data": {
      "text/plain": [
       "'\\narray([[  0,   0,   0, ..., 255, 255, 255],\\n       [  0,   0,   0, ..., 255, 255, 255],\\n       [  0,   0,   0, ..., 255, 255, 255],\\n       ...,\\n       [  0,   0,   0, ..., 255, 255, 255],\\n       [  0,   0,   0, ..., 255, 255, 255],\\n       [  0,   0,   0, ..., 255, 255, 255]], dtype=uint8)\\n       '"
      ]
     },
     "execution_count": 12,
     "metadata": {},
     "output_type": "execute_result"
    }
   ],
   "source": [
    "# View data mask\n",
    "lidar_dem_mask\n",
    "'''\n",
    "array([[  0,   0,   0, ..., 255, 255, 255],\n",
    "       [  0,   0,   0, ..., 255, 255, 255],\n",
    "       [  0,   0,   0, ..., 255, 255, 255],\n",
    "       ...,\n",
    "       [  0,   0,   0, ..., 255, 255, 255],\n",
    "       [  0,   0,   0, ..., 255, 255, 255],\n",
    "       [  0,   0,   0, ..., 255, 255, 255]], dtype=uint8)\n",
    "       '''\n"
   ]
  },
  {
   "cell_type": "markdown",
   "metadata": {},
   "source": [
    "# You can also extract or view individual metadata attributes"
   ]
  },
  {
   "cell_type": "code",
   "execution_count": 13,
   "metadata": {},
   "outputs": [
    {
     "name": "stdout",
     "output_type": "stream",
     "text": [
      "EPSG:32613\n",
      "BoundingBox(left=472000.0, bottom=4434000.0, right=476000.0, top=4436000.0)\n"
     ]
    }
   ],
   "source": [
    "print(lidar_dem.crs)\n",
    "print(lidar_dem.bounds)\n"
   ]
  },
  {
   "cell_type": "markdown",
   "metadata": {},
   "source": [
    "# Do both datasets have the same spatial extent?"
   ]
  },
  {
   "cell_type": "code",
   "execution_count": 14,
   "metadata": {},
   "outputs": [
    {
     "name": "stdout",
     "output_type": "stream",
     "text": [
      "Both datasets cover the same spatial extent\n"
     ]
    }
   ],
   "source": [
    "# Open lidar dsm\n",
    "with rio.open(\"data/colorado-flood/spatial/boulder-leehill-rd/pre-flood/lidar/pre_DSM.tif\") as lidar_dsm:\n",
    "    extent_lidar_dsm = lidar_dsm.bounds \n",
    "\n",
    "if lidar_dem.bounds == lidar_dsm.bounds:\n",
    "    print(\"Both datasets cover the same spatial extent\")\n"
   ]
  },
  {
   "cell_type": "markdown",
   "metadata": {},
   "source": [
    "# How about resolution? Do both datasets have the same horizontal (x and y) resolution?"
   ]
  },
  {
   "cell_type": "code",
   "execution_count": 19,
   "metadata": {},
   "outputs": [
    {
     "name": "stdout",
     "output_type": "stream",
     "text": [
      "Both layers do in-fact have the same resolution =  True\n"
     ]
    }
   ],
   "source": [
    "# Do both layers have the same spatial resolution?\n",
    "print('Both layers do in-fact have the same resolution = ', lidar_dsm.res == lidar_dem.res)\n"
   ]
  },
  {
   "cell_type": "code",
   "execution_count": 20,
   "metadata": {},
   "outputs": [
    {
     "data": {
      "text/plain": [
       "{'init': 'epsg:32613'}"
      ]
     },
     "execution_count": 20,
     "metadata": {},
     "output_type": "execute_result"
    }
   ],
   "source": [
    "# Get crs of a rasterio object\n",
    "lidar_dem.crs.data\n"
   ]
  },
  {
   "cell_type": "markdown",
   "metadata": {},
   "source": [
    "# Extra Metadata with EPSG"
   ]
  },
  {
   "cell_type": "code",
   "execution_count": 21,
   "metadata": {},
   "outputs": [
    {
     "data": {
      "text/plain": [
       "'+proj=utm +zone=13 +datum=WGS84 +units=m +no_defs'"
      ]
     },
     "execution_count": 21,
     "metadata": {},
     "output_type": "execute_result"
    }
   ],
   "source": [
    "et.epsg['32613']\n"
   ]
  },
  {
   "cell_type": "markdown",
   "metadata": {},
   "source": [
    "# Single Layer (or Band) vs Multi-Layer (Band Geotiffs)"
   ]
  },
  {
   "cell_type": "code",
   "execution_count": 22,
   "metadata": {},
   "outputs": [
    {
     "name": "stdout",
     "output_type": "stream",
     "text": [
      "1\n"
     ]
    }
   ],
   "source": [
    "print(lidar_dem.count)"
   ]
  },
  {
   "cell_type": "code",
   "execution_count": 23,
   "metadata": {},
   "outputs": [
    {
     "name": "stdout",
     "output_type": "stream",
     "text": [
      "number of bands (1,)\n"
     ]
    }
   ],
   "source": [
    "# another way to view the nu,ber of bands\n",
    "# How many bands / layers does the object have?\n",
    "print(\"number of bands\", lidar_dem.indexes)"
   ]
  },
  {
   "cell_type": "code",
   "execution_count": null,
   "metadata": {},
   "outputs": [],
   "source": []
  }
 ],
 "metadata": {
  "kernelspec": {
   "display_name": "Python 3",
   "language": "python",
   "name": "python3"
  },
  "language_info": {
   "codemirror_mode": {
    "name": "ipython",
    "version": 3
   },
   "file_extension": ".py",
   "mimetype": "text/x-python",
   "name": "python",
   "nbconvert_exporter": "python",
   "pygments_lexer": "ipython3",
   "version": "3.7.3"
  }
 },
 "nbformat": 4,
 "nbformat_minor": 4
}
